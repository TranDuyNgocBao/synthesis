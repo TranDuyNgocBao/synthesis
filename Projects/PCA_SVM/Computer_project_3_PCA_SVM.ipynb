{
 "cells": [
  {
   "cell_type": "markdown",
   "id": "9c55d8f2",
   "metadata": {},
   "source": [
    "## 1. Import data"
   ]
  },
  {
   "cell_type": "code",
   "execution_count": 1,
   "id": "faaa054b",
   "metadata": {},
   "outputs": [],
   "source": [
    "from keras.datasets import mnist\n",
    "\n",
    "(X_train, Y_train), (X_test, Y_test) = mnist.load_data()"
   ]
  },
  {
   "cell_type": "code",
   "execution_count": 2,
   "id": "2462b58f",
   "metadata": {},
   "outputs": [],
   "source": [
    "X_train = X_train.reshape(len(X_train), 28*28)\n",
    "X_test = X_test.reshape(len(X_test), 28*28)"
   ]
  },
  {
   "cell_type": "code",
   "execution_count": 3,
   "id": "4eece605",
   "metadata": {},
   "outputs": [
    {
     "data": {
      "text/html": [
       "<div>\n",
       "<style scoped>\n",
       "    .dataframe tbody tr th:only-of-type {\n",
       "        vertical-align: middle;\n",
       "    }\n",
       "\n",
       "    .dataframe tbody tr th {\n",
       "        vertical-align: top;\n",
       "    }\n",
       "\n",
       "    .dataframe thead th {\n",
       "        text-align: right;\n",
       "    }\n",
       "</style>\n",
       "<table border=\"1\" class=\"dataframe\">\n",
       "  <thead>\n",
       "    <tr style=\"text-align: right;\">\n",
       "      <th></th>\n",
       "      <th>label</th>\n",
       "      <th>pixel 1</th>\n",
       "      <th>pixel 2</th>\n",
       "      <th>pixel 3</th>\n",
       "      <th>pixel 4</th>\n",
       "      <th>pixel 5</th>\n",
       "      <th>pixel 6</th>\n",
       "      <th>pixel 7</th>\n",
       "      <th>pixel 8</th>\n",
       "      <th>pixel 9</th>\n",
       "      <th>...</th>\n",
       "      <th>pixel 775</th>\n",
       "      <th>pixel 776</th>\n",
       "      <th>pixel 777</th>\n",
       "      <th>pixel 778</th>\n",
       "      <th>pixel 779</th>\n",
       "      <th>pixel 780</th>\n",
       "      <th>pixel 781</th>\n",
       "      <th>pixel 782</th>\n",
       "      <th>pixel 783</th>\n",
       "      <th>pixel 784</th>\n",
       "    </tr>\n",
       "  </thead>\n",
       "  <tbody>\n",
       "    <tr>\n",
       "      <th>0</th>\n",
       "      <td>5</td>\n",
       "      <td>0</td>\n",
       "      <td>0</td>\n",
       "      <td>0</td>\n",
       "      <td>0</td>\n",
       "      <td>0</td>\n",
       "      <td>0</td>\n",
       "      <td>0</td>\n",
       "      <td>0</td>\n",
       "      <td>0</td>\n",
       "      <td>...</td>\n",
       "      <td>0</td>\n",
       "      <td>0</td>\n",
       "      <td>0</td>\n",
       "      <td>0</td>\n",
       "      <td>0</td>\n",
       "      <td>0</td>\n",
       "      <td>0</td>\n",
       "      <td>0</td>\n",
       "      <td>0</td>\n",
       "      <td>0</td>\n",
       "    </tr>\n",
       "    <tr>\n",
       "      <th>1</th>\n",
       "      <td>0</td>\n",
       "      <td>0</td>\n",
       "      <td>0</td>\n",
       "      <td>0</td>\n",
       "      <td>0</td>\n",
       "      <td>0</td>\n",
       "      <td>0</td>\n",
       "      <td>0</td>\n",
       "      <td>0</td>\n",
       "      <td>0</td>\n",
       "      <td>...</td>\n",
       "      <td>0</td>\n",
       "      <td>0</td>\n",
       "      <td>0</td>\n",
       "      <td>0</td>\n",
       "      <td>0</td>\n",
       "      <td>0</td>\n",
       "      <td>0</td>\n",
       "      <td>0</td>\n",
       "      <td>0</td>\n",
       "      <td>0</td>\n",
       "    </tr>\n",
       "    <tr>\n",
       "      <th>2</th>\n",
       "      <td>4</td>\n",
       "      <td>0</td>\n",
       "      <td>0</td>\n",
       "      <td>0</td>\n",
       "      <td>0</td>\n",
       "      <td>0</td>\n",
       "      <td>0</td>\n",
       "      <td>0</td>\n",
       "      <td>0</td>\n",
       "      <td>0</td>\n",
       "      <td>...</td>\n",
       "      <td>0</td>\n",
       "      <td>0</td>\n",
       "      <td>0</td>\n",
       "      <td>0</td>\n",
       "      <td>0</td>\n",
       "      <td>0</td>\n",
       "      <td>0</td>\n",
       "      <td>0</td>\n",
       "      <td>0</td>\n",
       "      <td>0</td>\n",
       "    </tr>\n",
       "    <tr>\n",
       "      <th>3</th>\n",
       "      <td>1</td>\n",
       "      <td>0</td>\n",
       "      <td>0</td>\n",
       "      <td>0</td>\n",
       "      <td>0</td>\n",
       "      <td>0</td>\n",
       "      <td>0</td>\n",
       "      <td>0</td>\n",
       "      <td>0</td>\n",
       "      <td>0</td>\n",
       "      <td>...</td>\n",
       "      <td>0</td>\n",
       "      <td>0</td>\n",
       "      <td>0</td>\n",
       "      <td>0</td>\n",
       "      <td>0</td>\n",
       "      <td>0</td>\n",
       "      <td>0</td>\n",
       "      <td>0</td>\n",
       "      <td>0</td>\n",
       "      <td>0</td>\n",
       "    </tr>\n",
       "    <tr>\n",
       "      <th>4</th>\n",
       "      <td>9</td>\n",
       "      <td>0</td>\n",
       "      <td>0</td>\n",
       "      <td>0</td>\n",
       "      <td>0</td>\n",
       "      <td>0</td>\n",
       "      <td>0</td>\n",
       "      <td>0</td>\n",
       "      <td>0</td>\n",
       "      <td>0</td>\n",
       "      <td>...</td>\n",
       "      <td>0</td>\n",
       "      <td>0</td>\n",
       "      <td>0</td>\n",
       "      <td>0</td>\n",
       "      <td>0</td>\n",
       "      <td>0</td>\n",
       "      <td>0</td>\n",
       "      <td>0</td>\n",
       "      <td>0</td>\n",
       "      <td>0</td>\n",
       "    </tr>\n",
       "  </tbody>\n",
       "</table>\n",
       "<p>5 rows × 785 columns</p>\n",
       "</div>"
      ],
      "text/plain": [
       "   label  pixel 1  pixel 2  pixel 3  pixel 4  pixel 5  pixel 6  pixel 7  \\\n",
       "0      5        0        0        0        0        0        0        0   \n",
       "1      0        0        0        0        0        0        0        0   \n",
       "2      4        0        0        0        0        0        0        0   \n",
       "3      1        0        0        0        0        0        0        0   \n",
       "4      9        0        0        0        0        0        0        0   \n",
       "\n",
       "   pixel 8  pixel 9  ...  pixel 775  pixel 776  pixel 777  pixel 778  \\\n",
       "0        0        0  ...          0          0          0          0   \n",
       "1        0        0  ...          0          0          0          0   \n",
       "2        0        0  ...          0          0          0          0   \n",
       "3        0        0  ...          0          0          0          0   \n",
       "4        0        0  ...          0          0          0          0   \n",
       "\n",
       "   pixel 779  pixel 780  pixel 781  pixel 782  pixel 783  pixel 784  \n",
       "0          0          0          0          0          0          0  \n",
       "1          0          0          0          0          0          0  \n",
       "2          0          0          0          0          0          0  \n",
       "3          0          0          0          0          0          0  \n",
       "4          0          0          0          0          0          0  \n",
       "\n",
       "[5 rows x 785 columns]"
      ]
     },
     "execution_count": 3,
     "metadata": {},
     "output_type": "execute_result"
    }
   ],
   "source": [
    "import pandas as pd\n",
    "\n",
    "pixel = dict()\n",
    "pixel[\"label\"] = Y_train\n",
    "for i in range(X_train.shape[1]):\n",
    "    pixel[\"pixel \" + str(i+1)] = X_train[:,i]\n",
    "df_train = pd.DataFrame(pixel)\n",
    "df_train[:5]"
   ]
  },
  {
   "cell_type": "markdown",
   "id": "71ac82cc",
   "metadata": {},
   "source": [
    "## Show data"
   ]
  },
  {
   "cell_type": "code",
   "execution_count": 4,
   "id": "356ce265",
   "metadata": {},
   "outputs": [
    {
     "data": {
      "image/png": "[encoded data removed]",
      "text/plain": [
       "<Figure size 576x576 with 9 Axes>"
      ]
     },
     "metadata": {
      "needs_background": "light"
     },
     "output_type": "display_data"
    }
   ],
   "source": [
    "import matplotlib.pyplot as plt\n",
    "plt.figure(figsize=(8, 8))\n",
    "for i in range(9):\n",
    "    plt.subplot(330 + i + 1)\n",
    "    plt.imshow(X_train[i + 8].reshape(28, 28), cmap=\"gray\")\n",
    "    plt.title(Y_train[i + 8], fontsize=15)\n",
    "    plt.axis(\"off\")\n",
    "plt.show()"
   ]
  },
  {
   "cell_type": "markdown",
   "id": "a27b51f8",
   "metadata": {},
   "source": [
    "## 2. Principal components analysis with 16 components"
   ]
  },
  {
   "cell_type": "code",
   "execution_count": 5,
   "id": "9eea9f20",
   "metadata": {
    "scrolled": false
   },
   "outputs": [],
   "source": [
    "from pca import PCA\n",
    "\n",
    "n_component = 16\n",
    "pca = PCA(n_components=n_component)\n",
    "pca.fit(X_train)\n",
    "pca_train = pca.transform(X_train)\n",
    "pca_test = pca.transform(X_test)"
   ]
  },
  {
   "cell_type": "markdown",
   "id": "051c81ed",
   "metadata": {},
   "source": [
    "## Show 16 components"
   ]
  },
  {
   "cell_type": "code",
   "execution_count": 6,
   "id": "2787bf25",
   "metadata": {},
   "outputs": [
    {
     "data": {
      "text/html": [
       "<div>\n",
       "<style scoped>\n",
       "    .dataframe tbody tr th:only-of-type {\n",
       "        vertical-align: middle;\n",
       "    }\n",
       "\n",
       "    .dataframe tbody tr th {\n",
       "        vertical-align: top;\n",
       "    }\n",
       "\n",
       "    .dataframe thead th {\n",
       "        text-align: right;\n",
       "    }\n",
       "</style>\n",
       "<table border=\"1\" class=\"dataframe\">\n",
       "  <thead>\n",
       "    <tr style=\"text-align: right;\">\n",
       "      <th></th>\n",
       "      <th>PCs 1</th>\n",
       "      <th>PCs 2</th>\n",
       "      <th>PCs 3</th>\n",
       "      <th>PCs 4</th>\n",
       "      <th>PCs 5</th>\n",
       "      <th>PCs 6</th>\n",
       "      <th>PCs 7</th>\n",
       "      <th>PCs 8</th>\n",
       "      <th>PCs 9</th>\n",
       "      <th>PCs 10</th>\n",
       "      <th>PCs 11</th>\n",
       "      <th>PCs 12</th>\n",
       "      <th>PCs 13</th>\n",
       "      <th>PCs 14</th>\n",
       "      <th>PCs 15</th>\n",
       "      <th>PCs 16</th>\n",
       "      <th>Label</th>\n",
       "    </tr>\n",
       "  </thead>\n",
       "  <tbody>\n",
       "    <tr>\n",
       "      <th>0</th>\n",
       "      <td>0.922159</td>\n",
       "      <td>-4.814790</td>\n",
       "      <td>-0.067560</td>\n",
       "      <td>8.051329</td>\n",
       "      <td>0.985347</td>\n",
       "      <td>-0.951616</td>\n",
       "      <td>-0.336139</td>\n",
       "      <td>1.393473</td>\n",
       "      <td>1.052314</td>\n",
       "      <td>2.324207</td>\n",
       "      <td>-1.520380</td>\n",
       "      <td>-3.162686</td>\n",
       "      <td>1.183778</td>\n",
       "      <td>-9.200882</td>\n",
       "      <td>4.419723</td>\n",
       "      <td>-1.643308</td>\n",
       "      <td>5</td>\n",
       "    </tr>\n",
       "    <tr>\n",
       "      <th>1</th>\n",
       "      <td>-8.708977</td>\n",
       "      <td>-7.754403</td>\n",
       "      <td>3.447910</td>\n",
       "      <td>1.668321</td>\n",
       "      <td>-0.834795</td>\n",
       "      <td>5.144664</td>\n",
       "      <td>0.272279</td>\n",
       "      <td>3.135456</td>\n",
       "      <td>0.198393</td>\n",
       "      <td>-1.196196</td>\n",
       "      <td>-3.251284</td>\n",
       "      <td>1.183846</td>\n",
       "      <td>-1.634733</td>\n",
       "      <td>4.405183</td>\n",
       "      <td>2.924403</td>\n",
       "      <td>1.381109</td>\n",
       "      <td>0</td>\n",
       "    </tr>\n",
       "    <tr>\n",
       "      <th>2</th>\n",
       "      <td>-2.328389</td>\n",
       "      <td>9.431338</td>\n",
       "      <td>6.184114</td>\n",
       "      <td>-1.725066</td>\n",
       "      <td>-4.092456</td>\n",
       "      <td>-2.291390</td>\n",
       "      <td>-18.691539</td>\n",
       "      <td>3.992473</td>\n",
       "      <td>-2.170118</td>\n",
       "      <td>-0.151141</td>\n",
       "      <td>-7.383500</td>\n",
       "      <td>-2.030047</td>\n",
       "      <td>0.586541</td>\n",
       "      <td>-0.109484</td>\n",
       "      <td>-11.328976</td>\n",
       "      <td>-10.314627</td>\n",
       "      <td>4</td>\n",
       "    </tr>\n",
       "    <tr>\n",
       "      <th>3</th>\n",
       "      <td>6.582173</td>\n",
       "      <td>-3.746318</td>\n",
       "      <td>-3.690851</td>\n",
       "      <td>0.461041</td>\n",
       "      <td>-5.627325</td>\n",
       "      <td>-3.461544</td>\n",
       "      <td>-1.561415</td>\n",
       "      <td>-4.600462</td>\n",
       "      <td>0.624820</td>\n",
       "      <td>-2.617184</td>\n",
       "      <td>-2.046667</td>\n",
       "      <td>-3.941352</td>\n",
       "      <td>0.761777</td>\n",
       "      <td>3.777262</td>\n",
       "      <td>0.963551</td>\n",
       "      <td>-2.207193</td>\n",
       "      <td>1</td>\n",
       "    </tr>\n",
       "    <tr>\n",
       "      <th>4</th>\n",
       "      <td>5.183251</td>\n",
       "      <td>3.133297</td>\n",
       "      <td>6.277947</td>\n",
       "      <td>-1.459654</td>\n",
       "      <td>1.608842</td>\n",
       "      <td>0.612565</td>\n",
       "      <td>0.580065</td>\n",
       "      <td>-3.206010</td>\n",
       "      <td>-0.012948</td>\n",
       "      <td>-0.699051</td>\n",
       "      <td>4.812271</td>\n",
       "      <td>-0.123237</td>\n",
       "      <td>0.761199</td>\n",
       "      <td>1.971282</td>\n",
       "      <td>1.472818</td>\n",
       "      <td>0.838972</td>\n",
       "      <td>9</td>\n",
       "    </tr>\n",
       "    <tr>\n",
       "      <th>5</th>\n",
       "      <td>-2.198402</td>\n",
       "      <td>-3.068366</td>\n",
       "      <td>0.231257</td>\n",
       "      <td>-2.752601</td>\n",
       "      <td>1.216887</td>\n",
       "      <td>-5.791326</td>\n",
       "      <td>0.693788</td>\n",
       "      <td>0.335576</td>\n",
       "      <td>0.786537</td>\n",
       "      <td>-1.945917</td>\n",
       "      <td>2.753538</td>\n",
       "      <td>1.614422</td>\n",
       "      <td>-1.215571</td>\n",
       "      <td>-0.236623</td>\n",
       "      <td>4.479787</td>\n",
       "      <td>0.455888</td>\n",
       "      <td>2</td>\n",
       "    </tr>\n",
       "    <tr>\n",
       "      <th>6</th>\n",
       "      <td>6.773344</td>\n",
       "      <td>0.823079</td>\n",
       "      <td>-2.932370</td>\n",
       "      <td>-0.988512</td>\n",
       "      <td>-1.460365</td>\n",
       "      <td>4.947632</td>\n",
       "      <td>0.143080</td>\n",
       "      <td>0.972309</td>\n",
       "      <td>0.527853</td>\n",
       "      <td>-0.248306</td>\n",
       "      <td>2.743669</td>\n",
       "      <td>1.173407</td>\n",
       "      <td>-0.555294</td>\n",
       "      <td>-4.646503</td>\n",
       "      <td>-2.808747</td>\n",
       "      <td>1.495567</td>\n",
       "      <td>1</td>\n",
       "    </tr>\n",
       "    <tr>\n",
       "      <th>7</th>\n",
       "      <td>-1.926909</td>\n",
       "      <td>-5.406264</td>\n",
       "      <td>0.163032</td>\n",
       "      <td>11.153009</td>\n",
       "      <td>5.003720</td>\n",
       "      <td>-5.101921</td>\n",
       "      <td>-0.559796</td>\n",
       "      <td>-1.926869</td>\n",
       "      <td>4.230104</td>\n",
       "      <td>1.010069</td>\n",
       "      <td>0.545531</td>\n",
       "      <td>-1.614506</td>\n",
       "      <td>1.304368</td>\n",
       "      <td>-2.271217</td>\n",
       "      <td>-0.564763</td>\n",
       "      <td>-2.064270</td>\n",
       "      <td>3</td>\n",
       "    </tr>\n",
       "    <tr>\n",
       "      <th>8</th>\n",
       "      <td>7.822335</td>\n",
       "      <td>0.191810</td>\n",
       "      <td>-1.100151</td>\n",
       "      <td>-1.559558</td>\n",
       "      <td>-4.221220</td>\n",
       "      <td>5.094354</td>\n",
       "      <td>-0.625061</td>\n",
       "      <td>0.417244</td>\n",
       "      <td>0.070493</td>\n",
       "      <td>1.069038</td>\n",
       "      <td>1.137108</td>\n",
       "      <td>2.647536</td>\n",
       "      <td>-1.240880</td>\n",
       "      <td>-3.480839</td>\n",
       "      <td>-0.772773</td>\n",
       "      <td>-0.520236</td>\n",
       "      <td>1</td>\n",
       "    </tr>\n",
       "    <tr>\n",
       "      <th>9</th>\n",
       "      <td>3.227626</td>\n",
       "      <td>-4.726425</td>\n",
       "      <td>4.288980</td>\n",
       "      <td>-3.631201</td>\n",
       "      <td>0.712054</td>\n",
       "      <td>-3.527597</td>\n",
       "      <td>-2.536038</td>\n",
       "      <td>-2.093004</td>\n",
       "      <td>-3.565205</td>\n",
       "      <td>5.520485</td>\n",
       "      <td>-0.568094</td>\n",
       "      <td>1.573917</td>\n",
       "      <td>-1.516880</td>\n",
       "      <td>0.971321</td>\n",
       "      <td>-0.373452</td>\n",
       "      <td>-3.714878</td>\n",
       "      <td>4</td>\n",
       "    </tr>\n",
       "  </tbody>\n",
       "</table>\n",
       "</div>"
      ],
      "text/plain": [
       "      PCs 1     PCs 2     PCs 3      PCs 4     PCs 5     PCs 6      PCs 7  \\\n",
       "0  0.922159 -4.814790 -0.067560   8.051329  0.985347 -0.951616  -0.336139   \n",
       "1 -8.708977 -7.754403  3.447910   1.668321 -0.834795  5.144664   0.272279   \n",
       "2 -2.328389  9.431338  6.184114  -1.725066 -4.092456 -2.291390 -18.691539   \n",
       "3  6.582173 -3.746318 -3.690851   0.461041 -5.627325 -3.461544  -1.561415   \n",
       "4  5.183251  3.133297  6.277947  -1.459654  1.608842  0.612565   0.580065   \n",
       "5 -2.198402 -3.068366  0.231257  -2.752601  1.216887 -5.791326   0.693788   \n",
       "6  6.773344  0.823079 -2.932370  -0.988512 -1.460365  4.947632   0.143080   \n",
       "7 -1.926909 -5.406264  0.163032  11.153009  5.003720 -5.101921  -0.559796   \n",
       "8  7.822335  0.191810 -1.100151  -1.559558 -4.221220  5.094354  -0.625061   \n",
       "9  3.227626 -4.726425  4.288980  -3.631201  0.712054 -3.527597  -2.536038   \n",
       "\n",
       "      PCs 8     PCs 9    PCs 10    PCs 11    PCs 12    PCs 13    PCs 14  \\\n",
       "0  1.393473  1.052314  2.324207 -1.520380 -3.162686  1.183778 -9.200882   \n",
       "1  3.135456  0.198393 -1.196196 -3.251284  1.183846 -1.634733  4.405183   \n",
       "2  3.992473 -2.170118 -0.151141 -7.383500 -2.030047  0.586541 -0.109484   \n",
       "3 -4.600462  0.624820 -2.617184 -2.046667 -3.941352  0.761777  3.777262   \n",
       "4 -3.206010 -0.012948 -0.699051  4.812271 -0.123237  0.761199  1.971282   \n",
       "5  0.335576  0.786537 -1.945917  2.753538  1.614422 -1.215571 -0.236623   \n",
       "6  0.972309  0.527853 -0.248306  2.743669  1.173407 -0.555294 -4.646503   \n",
       "7 -1.926869  4.230104  1.010069  0.545531 -1.614506  1.304368 -2.271217   \n",
       "8  0.417244  0.070493  1.069038  1.137108  2.647536 -1.240880 -3.480839   \n",
       "9 -2.093004 -3.565205  5.520485 -0.568094  1.573917 -1.516880  0.971321   \n",
       "\n",
       "      PCs 15     PCs 16  Label  \n",
       "0   4.419723  -1.643308      5  \n",
       "1   2.924403   1.381109      0  \n",
       "2 -11.328976 -10.314627      4  \n",
       "3   0.963551  -2.207193      1  \n",
       "4   1.472818   0.838972      9  \n",
       "5   4.479787   0.455888      2  \n",
       "6  -2.808747   1.495567      1  \n",
       "7  -0.564763  -2.064270      3  \n",
       "8  -0.772773  -0.520236      1  \n",
       "9  -0.373452  -3.714878      4  "
      ]
     },
     "execution_count": 6,
     "metadata": {},
     "output_type": "execute_result"
    }
   ],
   "source": [
    "col_names_train = dict()\n",
    "for i in range(n_component):\n",
    "    col_names_train[\"PCs \" + str(i + 1)] = pca_train[:, i]\n",
    "\n",
    "df_train_pca = pd.DataFrame(col_names_train)\n",
    "df_train_pca[\"Label\"] = Y_train\n",
    "df_train_pca[:10]"
   ]
  },
  {
   "cell_type": "markdown",
   "id": "32995b67",
   "metadata": {},
   "source": [
    "## Plot data with 16 components"
   ]
  },
  {
   "cell_type": "code",
   "execution_count": 7,
   "id": "f905fa26",
   "metadata": {
    "scrolled": true
   },
   "outputs": [
    {
     "name": "stdout",
     "output_type": "stream",
     "text": [
      "[0.05646717 0.09724989 0.13464369 0.16349484 0.18870593 0.21064863\n",
      " 0.22988207 0.24734006 0.26269099 0.27670818 0.29012561 0.30216303\n",
      " 0.31330873 0.32420796 0.33449446 0.34443932]\n"
     ]
    },
    {
     "data": {
      "image/png": "[encoded data removed]",
      "text/plain": [
       "<Figure size 432x288 with 1 Axes>"
      ]
     },
     "metadata": {
      "needs_background": "light"
     },
     "output_type": "display_data"
    }
   ],
   "source": [
    "import numpy as np\n",
    "\n",
    "x = np.arange(1, n_component+1)\n",
    "y = pca.information_percent()\n",
    "print(y)\n",
    "plt.plot(x, y)\n",
    "plt.show()"
   ]
  },
  {
   "cell_type": "code",
   "execution_count": 8,
   "id": "4a4dc077",
   "metadata": {},
   "outputs": [
    {
     "data": {
      "image/png": "[encoded data removed]",
      "text/plain": [
       "<Figure size 576x576 with 9 Axes>"
      ]
     },
     "metadata": {
      "needs_background": "light"
     },
     "output_type": "display_data"
    }
   ],
   "source": [
    "project_data = pca.project_data(X_train)\n",
    "plt.figure(figsize=(8, 8))\n",
    "for i in range(9):\n",
    "    plt.subplot(330 + i + 1)\n",
    "    plt.imshow(project_data[i + 8].reshape(28, 28), cmap=\"gray\")\n",
    "    plt.title(Y_train[i + 8], fontsize=15)\n",
    "    plt.axis(\"off\")\n",
    "plt.show()"
   ]
  },
  {
   "cell_type": "markdown",
   "id": "027e89b1",
   "metadata": {},
   "source": [
    "## 3. Support vector machine"
   ]
  },
  {
   "cell_type": "code",
   "execution_count": 9,
   "id": "0af62c3b",
   "metadata": {},
   "outputs": [],
   "source": [
    "from sklearn.svm import SVC\n",
    "from sklearn.metrics import accuracy_score"
   ]
  },
  {
   "cell_type": "code",
   "execution_count": 10,
   "id": "69b720d0",
   "metadata": {},
   "outputs": [],
   "source": [
    "# Save accuracy in each kernel\n",
    "kernel_accuracy = dict()"
   ]
  },
  {
   "cell_type": "markdown",
   "id": "483ae7d4",
   "metadata": {},
   "source": [
    "<font size=\"5\">**Radial Basic Function - RBF**</font>"
   ]
  },
  {
   "cell_type": "code",
   "execution_count": 11,
   "id": "d5b17a28",
   "metadata": {},
   "outputs": [
    {
     "data": {
      "text/plain": [
       "0.9527"
      ]
     },
     "execution_count": 11,
     "metadata": {},
     "output_type": "execute_result"
    }
   ],
   "source": [
    "rbf = SVC(kernel=\"rbf\")\n",
    "rbf.fit(pca_train, Y_train)\n",
    "predict_rbf = rbf.predict(pca_test)\n",
    "rbf_accuracy = accuracy_score(predict_rbf, Y_test)\n",
    "kernel_accuracy[\"RBF\"] = rbf_accuracy\n",
    "rbf_accuracy"
   ]
  },
  {
   "cell_type": "code",
   "execution_count": 27,
   "id": "293fc582",
   "metadata": {},
   "outputs": [
    {
     "data": {
      "text/html": [
       "<div>\n",
       "<style scoped>\n",
       "    .dataframe tbody tr th:only-of-type {\n",
       "        vertical-align: middle;\n",
       "    }\n",
       "\n",
       "    .dataframe tbody tr th {\n",
       "        vertical-align: top;\n",
       "    }\n",
       "\n",
       "    .dataframe thead th {\n",
       "        text-align: right;\n",
       "    }\n",
       "</style>\n",
       "<table border=\"1\" class=\"dataframe\">\n",
       "  <thead>\n",
       "    <tr style=\"text-align: right;\">\n",
       "      <th></th>\n",
       "      <th>Predict</th>\n",
       "      <th>True</th>\n",
       "    </tr>\n",
       "  </thead>\n",
       "  <tbody>\n",
       "    <tr>\n",
       "      <th>0</th>\n",
       "      <td>7</td>\n",
       "      <td>7</td>\n",
       "    </tr>\n",
       "    <tr>\n",
       "      <th>1</th>\n",
       "      <td>2</td>\n",
       "      <td>2</td>\n",
       "    </tr>\n",
       "    <tr>\n",
       "      <th>2</th>\n",
       "      <td>1</td>\n",
       "      <td>1</td>\n",
       "    </tr>\n",
       "    <tr>\n",
       "      <th>3</th>\n",
       "      <td>0</td>\n",
       "      <td>0</td>\n",
       "    </tr>\n",
       "    <tr>\n",
       "      <th>4</th>\n",
       "      <td>4</td>\n",
       "      <td>4</td>\n",
       "    </tr>\n",
       "    <tr>\n",
       "      <th>...</th>\n",
       "      <td>...</td>\n",
       "      <td>...</td>\n",
       "    </tr>\n",
       "    <tr>\n",
       "      <th>9995</th>\n",
       "      <td>2</td>\n",
       "      <td>2</td>\n",
       "    </tr>\n",
       "    <tr>\n",
       "      <th>9996</th>\n",
       "      <td>3</td>\n",
       "      <td>3</td>\n",
       "    </tr>\n",
       "    <tr>\n",
       "      <th>9997</th>\n",
       "      <td>4</td>\n",
       "      <td>4</td>\n",
       "    </tr>\n",
       "    <tr>\n",
       "      <th>9998</th>\n",
       "      <td>5</td>\n",
       "      <td>5</td>\n",
       "    </tr>\n",
       "    <tr>\n",
       "      <th>9999</th>\n",
       "      <td>6</td>\n",
       "      <td>6</td>\n",
       "    </tr>\n",
       "  </tbody>\n",
       "</table>\n",
       "<p>10000 rows × 2 columns</p>\n",
       "</div>"
      ],
      "text/plain": [
       "      Predict  True\n",
       "0           7     7\n",
       "1           2     2\n",
       "2           1     1\n",
       "3           0     0\n",
       "4           4     4\n",
       "...       ...   ...\n",
       "9995        2     2\n",
       "9996        3     3\n",
       "9997        4     4\n",
       "9998        5     5\n",
       "9999        6     6\n",
       "\n",
       "[10000 rows x 2 columns]"
      ]
     },
     "execution_count": 27,
     "metadata": {},
     "output_type": "execute_result"
    }
   ],
   "source": [
    "rbf_predict = dict()\n",
    "rbf_predict[\"Predict\"] = predict_rbf\n",
    "rbf_predict[\"True\"] = Y_test\n",
    "\n",
    "df_rbf = pd.DataFrame(rbf_predict)\n",
    "df_rbf"
   ]
  },
  {
   "cell_type": "markdown",
   "id": "a987c2d3",
   "metadata": {},
   "source": [
    "<font size=\"5\">**Linear**</font>"
   ]
  },
  {
   "cell_type": "code",
   "execution_count": 12,
   "id": "aa344bed",
   "metadata": {},
   "outputs": [
    {
     "data": {
      "text/plain": [
       "0.8909"
      ]
     },
     "execution_count": 12,
     "metadata": {},
     "output_type": "execute_result"
    }
   ],
   "source": [
    "linear = SVC(kernel=\"linear\")\n",
    "linear.fit(pca_train, Y_train)\n",
    "predict_linear = linear.predict(pca_test)\n",
    "linear_accuracy = accuracy_score(predict_linear, Y_test)\n",
    "kernel_accuracy[\"Linear\"] = linear_accuracy\n",
    "linear_accuracy"
   ]
  },
  {
   "cell_type": "code",
   "execution_count": 28,
   "id": "bb9b4495",
   "metadata": {},
   "outputs": [
    {
     "data": {
      "text/html": [
       "<div>\n",
       "<style scoped>\n",
       "    .dataframe tbody tr th:only-of-type {\n",
       "        vertical-align: middle;\n",
       "    }\n",
       "\n",
       "    .dataframe tbody tr th {\n",
       "        vertical-align: top;\n",
       "    }\n",
       "\n",
       "    .dataframe thead th {\n",
       "        text-align: right;\n",
       "    }\n",
       "</style>\n",
       "<table border=\"1\" class=\"dataframe\">\n",
       "  <thead>\n",
       "    <tr style=\"text-align: right;\">\n",
       "      <th></th>\n",
       "      <th>Predict</th>\n",
       "      <th>True</th>\n",
       "    </tr>\n",
       "  </thead>\n",
       "  <tbody>\n",
       "    <tr>\n",
       "      <th>0</th>\n",
       "      <td>7</td>\n",
       "      <td>7</td>\n",
       "    </tr>\n",
       "    <tr>\n",
       "      <th>1</th>\n",
       "      <td>2</td>\n",
       "      <td>2</td>\n",
       "    </tr>\n",
       "    <tr>\n",
       "      <th>2</th>\n",
       "      <td>1</td>\n",
       "      <td>1</td>\n",
       "    </tr>\n",
       "    <tr>\n",
       "      <th>3</th>\n",
       "      <td>0</td>\n",
       "      <td>0</td>\n",
       "    </tr>\n",
       "    <tr>\n",
       "      <th>4</th>\n",
       "      <td>4</td>\n",
       "      <td>4</td>\n",
       "    </tr>\n",
       "    <tr>\n",
       "      <th>...</th>\n",
       "      <td>...</td>\n",
       "      <td>...</td>\n",
       "    </tr>\n",
       "    <tr>\n",
       "      <th>9995</th>\n",
       "      <td>2</td>\n",
       "      <td>2</td>\n",
       "    </tr>\n",
       "    <tr>\n",
       "      <th>9996</th>\n",
       "      <td>3</td>\n",
       "      <td>3</td>\n",
       "    </tr>\n",
       "    <tr>\n",
       "      <th>9997</th>\n",
       "      <td>4</td>\n",
       "      <td>4</td>\n",
       "    </tr>\n",
       "    <tr>\n",
       "      <th>9998</th>\n",
       "      <td>5</td>\n",
       "      <td>5</td>\n",
       "    </tr>\n",
       "    <tr>\n",
       "      <th>9999</th>\n",
       "      <td>6</td>\n",
       "      <td>6</td>\n",
       "    </tr>\n",
       "  </tbody>\n",
       "</table>\n",
       "<p>10000 rows × 2 columns</p>\n",
       "</div>"
      ],
      "text/plain": [
       "      Predict  True\n",
       "0           7     7\n",
       "1           2     2\n",
       "2           1     1\n",
       "3           0     0\n",
       "4           4     4\n",
       "...       ...   ...\n",
       "9995        2     2\n",
       "9996        3     3\n",
       "9997        4     4\n",
       "9998        5     5\n",
       "9999        6     6\n",
       "\n",
       "[10000 rows x 2 columns]"
      ]
     },
     "execution_count": 28,
     "metadata": {},
     "output_type": "execute_result"
    }
   ],
   "source": [
    "linear_predict = dict()\n",
    "linear_predict[\"Predict\"] = predict_linear\n",
    "linear_predict[\"True\"] = Y_test\n",
    "\n",
    "df_linear = pd.DataFrame(linear_predict)\n",
    "df_linear"
   ]
  },
  {
   "cell_type": "markdown",
   "id": "15fc4ee5",
   "metadata": {},
   "source": [
    "<font size=\"5\">**Polynomial**</font>"
   ]
  },
  {
   "cell_type": "code",
   "execution_count": 13,
   "id": "84d44058",
   "metadata": {},
   "outputs": [
    {
     "data": {
      "text/plain": [
       "0.945"
      ]
     },
     "execution_count": 13,
     "metadata": {},
     "output_type": "execute_result"
    }
   ],
   "source": [
    "poly = SVC(kernel=\"poly\")\n",
    "poly.fit(pca_train, Y_train)\n",
    "predict_poly = poly.predict(pca_test)\n",
    "poly_accuracy = accuracy_score(predict_poly, Y_test)\n",
    "kernel_accuracy[\"Poly\"] = poly_accuracy\n",
    "poly_accuracy"
   ]
  },
  {
   "cell_type": "code",
   "execution_count": 29,
   "id": "836bea47",
   "metadata": {},
   "outputs": [
    {
     "data": {
      "text/html": [
       "<div>\n",
       "<style scoped>\n",
       "    .dataframe tbody tr th:only-of-type {\n",
       "        vertical-align: middle;\n",
       "    }\n",
       "\n",
       "    .dataframe tbody tr th {\n",
       "        vertical-align: top;\n",
       "    }\n",
       "\n",
       "    .dataframe thead th {\n",
       "        text-align: right;\n",
       "    }\n",
       "</style>\n",
       "<table border=\"1\" class=\"dataframe\">\n",
       "  <thead>\n",
       "    <tr style=\"text-align: right;\">\n",
       "      <th></th>\n",
       "      <th>Predict</th>\n",
       "      <th>True</th>\n",
       "    </tr>\n",
       "  </thead>\n",
       "  <tbody>\n",
       "    <tr>\n",
       "      <th>0</th>\n",
       "      <td>7</td>\n",
       "      <td>7</td>\n",
       "    </tr>\n",
       "    <tr>\n",
       "      <th>1</th>\n",
       "      <td>2</td>\n",
       "      <td>2</td>\n",
       "    </tr>\n",
       "    <tr>\n",
       "      <th>2</th>\n",
       "      <td>1</td>\n",
       "      <td>1</td>\n",
       "    </tr>\n",
       "    <tr>\n",
       "      <th>3</th>\n",
       "      <td>0</td>\n",
       "      <td>0</td>\n",
       "    </tr>\n",
       "    <tr>\n",
       "      <th>4</th>\n",
       "      <td>4</td>\n",
       "      <td>4</td>\n",
       "    </tr>\n",
       "    <tr>\n",
       "      <th>...</th>\n",
       "      <td>...</td>\n",
       "      <td>...</td>\n",
       "    </tr>\n",
       "    <tr>\n",
       "      <th>9995</th>\n",
       "      <td>2</td>\n",
       "      <td>2</td>\n",
       "    </tr>\n",
       "    <tr>\n",
       "      <th>9996</th>\n",
       "      <td>3</td>\n",
       "      <td>3</td>\n",
       "    </tr>\n",
       "    <tr>\n",
       "      <th>9997</th>\n",
       "      <td>4</td>\n",
       "      <td>4</td>\n",
       "    </tr>\n",
       "    <tr>\n",
       "      <th>9998</th>\n",
       "      <td>5</td>\n",
       "      <td>5</td>\n",
       "    </tr>\n",
       "    <tr>\n",
       "      <th>9999</th>\n",
       "      <td>6</td>\n",
       "      <td>6</td>\n",
       "    </tr>\n",
       "  </tbody>\n",
       "</table>\n",
       "<p>10000 rows × 2 columns</p>\n",
       "</div>"
      ],
      "text/plain": [
       "      Predict  True\n",
       "0           7     7\n",
       "1           2     2\n",
       "2           1     1\n",
       "3           0     0\n",
       "4           4     4\n",
       "...       ...   ...\n",
       "9995        2     2\n",
       "9996        3     3\n",
       "9997        4     4\n",
       "9998        5     5\n",
       "9999        6     6\n",
       "\n",
       "[10000 rows x 2 columns]"
      ]
     },
     "execution_count": 29,
     "metadata": {},
     "output_type": "execute_result"
    }
   ],
   "source": [
    "poly_predict = dict()\n",
    "poly_predict[\"Predict\"] = predict_poly\n",
    "poly_predict[\"True\"] = Y_test\n",
    "\n",
    "df_poly = pd.DataFrame(poly_predict)\n",
    "df_poly"
   ]
  },
  {
   "cell_type": "markdown",
   "id": "45cc0fba",
   "metadata": {},
   "source": [
    "<font size=\"5\">**Sigmoid**</font>"
   ]
  },
  {
   "cell_type": "code",
   "execution_count": 14,
   "id": "ca20e11a",
   "metadata": {},
   "outputs": [
    {
     "data": {
      "text/plain": [
       "0.6912"
      ]
     },
     "execution_count": 14,
     "metadata": {},
     "output_type": "execute_result"
    }
   ],
   "source": [
    "sigmoid = SVC(kernel=\"sigmoid\")\n",
    "sigmoid.fit(pca_train, Y_train)\n",
    "predict_sigmoid = sigmoid.predict(pca_test)\n",
    "sigmoid_accuracy = accuracy_score(predict_sigmoid, Y_test)\n",
    "kernel_accuracy[\"Sigmoid\"] = sigmoid_accuracy\n",
    "sigmoid_accuracy"
   ]
  },
  {
   "cell_type": "code",
   "execution_count": 30,
   "id": "b848be2a",
   "metadata": {},
   "outputs": [
    {
     "data": {
      "text/html": [
       "<div>\n",
       "<style scoped>\n",
       "    .dataframe tbody tr th:only-of-type {\n",
       "        vertical-align: middle;\n",
       "    }\n",
       "\n",
       "    .dataframe tbody tr th {\n",
       "        vertical-align: top;\n",
       "    }\n",
       "\n",
       "    .dataframe thead th {\n",
       "        text-align: right;\n",
       "    }\n",
       "</style>\n",
       "<table border=\"1\" class=\"dataframe\">\n",
       "  <thead>\n",
       "    <tr style=\"text-align: right;\">\n",
       "      <th></th>\n",
       "      <th>Predict</th>\n",
       "      <th>True</th>\n",
       "    </tr>\n",
       "  </thead>\n",
       "  <tbody>\n",
       "    <tr>\n",
       "      <th>0</th>\n",
       "      <td>7</td>\n",
       "      <td>7</td>\n",
       "    </tr>\n",
       "    <tr>\n",
       "      <th>1</th>\n",
       "      <td>0</td>\n",
       "      <td>2</td>\n",
       "    </tr>\n",
       "    <tr>\n",
       "      <th>2</th>\n",
       "      <td>1</td>\n",
       "      <td>1</td>\n",
       "    </tr>\n",
       "    <tr>\n",
       "      <th>3</th>\n",
       "      <td>0</td>\n",
       "      <td>0</td>\n",
       "    </tr>\n",
       "    <tr>\n",
       "      <th>4</th>\n",
       "      <td>4</td>\n",
       "      <td>4</td>\n",
       "    </tr>\n",
       "    <tr>\n",
       "      <th>...</th>\n",
       "      <td>...</td>\n",
       "      <td>...</td>\n",
       "    </tr>\n",
       "    <tr>\n",
       "      <th>9995</th>\n",
       "      <td>2</td>\n",
       "      <td>2</td>\n",
       "    </tr>\n",
       "    <tr>\n",
       "      <th>9996</th>\n",
       "      <td>3</td>\n",
       "      <td>3</td>\n",
       "    </tr>\n",
       "    <tr>\n",
       "      <th>9997</th>\n",
       "      <td>4</td>\n",
       "      <td>4</td>\n",
       "    </tr>\n",
       "    <tr>\n",
       "      <th>9998</th>\n",
       "      <td>8</td>\n",
       "      <td>5</td>\n",
       "    </tr>\n",
       "    <tr>\n",
       "      <th>9999</th>\n",
       "      <td>0</td>\n",
       "      <td>6</td>\n",
       "    </tr>\n",
       "  </tbody>\n",
       "</table>\n",
       "<p>10000 rows × 2 columns</p>\n",
       "</div>"
      ],
      "text/plain": [
       "      Predict  True\n",
       "0           7     7\n",
       "1           0     2\n",
       "2           1     1\n",
       "3           0     0\n",
       "4           4     4\n",
       "...       ...   ...\n",
       "9995        2     2\n",
       "9996        3     3\n",
       "9997        4     4\n",
       "9998        8     5\n",
       "9999        0     6\n",
       "\n",
       "[10000 rows x 2 columns]"
      ]
     },
     "execution_count": 30,
     "metadata": {},
     "output_type": "execute_result"
    }
   ],
   "source": [
    "sigmoid_predict = dict()\n",
    "sigmoid_predict[\"Predict\"] = predict_sigmoid\n",
    "sigmoid_predict[\"True\"] = Y_test\n",
    "\n",
    "df_sigmoid = pd.DataFrame(sigmoid_predict)\n",
    "df_sigmoid"
   ]
  },
  {
   "cell_type": "markdown",
   "id": "a345518e",
   "metadata": {},
   "source": [
    "## All accuracy of each kernels"
   ]
  },
  {
   "cell_type": "code",
   "execution_count": 15,
   "id": "1086d4ae",
   "metadata": {},
   "outputs": [
    {
     "name": "stdout",
     "output_type": "stream",
     "text": [
      "kernel RBF: 0.952700\n",
      "kernel Linear: 0.890900\n",
      "kernel Poly: 0.945000\n",
      "kernel Sigmoid: 0.691200\n"
     ]
    }
   ],
   "source": [
    "for kernel, accuracy in kernel_accuracy.items():\n",
    "    print(\"kernel %s: %f\" % (kernel, accuracy))"
   ]
  },
  {
   "cell_type": "markdown",
   "id": "1e7848a7",
   "metadata": {},
   "source": [
    "## 4. Try with different number components"
   ]
  },
  {
   "cell_type": "code",
   "execution_count": 16,
   "id": "5b29e341",
   "metadata": {},
   "outputs": [],
   "source": [
    "n_components = [2, 5, 10, 20]"
   ]
  },
  {
   "cell_type": "markdown",
   "id": "19a2ccbb",
   "metadata": {},
   "source": [
    "### Radial Basic Function"
   ]
  },
  {
   "cell_type": "code",
   "execution_count": 17,
   "id": "9c6721bd",
   "metadata": {},
   "outputs": [
    {
     "name": "stdout",
     "output_type": "stream",
     "text": [
      "with 2: 0.364600\n",
      "with 5: 0.766300\n",
      "with 10: 0.926500\n",
      "with 20: 0.962300\n"
     ]
    }
   ],
   "source": [
    "for i in range(len(n_components)):\n",
    "    pcs = PCA(n_components=n_components[i])\n",
    "    pcs.fit(X_train)\n",
    "    pcs_train = pcs.transform(X_train)\n",
    "    pcs_test = pcs.transform(X_test)\n",
    "    svm = SVC(kernel=\"rbf\")\n",
    "    svm.fit(pcs_train, Y_train)\n",
    "    predict_ = svm.predict(pcs_test)\n",
    "    print(\"with {:d}: {:f}\".format(n_components[i], accuracy_score(predict_, Y_test)))    "
   ]
  },
  {
   "cell_type": "markdown",
   "id": "41dfd262",
   "metadata": {},
   "source": [
    "### Linear"
   ]
  },
  {
   "cell_type": "code",
   "execution_count": 18,
   "id": "9792b8b3",
   "metadata": {},
   "outputs": [
    {
     "name": "stdout",
     "output_type": "stream",
     "text": [
      "with 2: 0.336700\n",
      "with 5: 0.705000\n",
      "with 10: 0.845300\n",
      "with 20: 0.901000\n"
     ]
    }
   ],
   "source": [
    "for i in range(len(n_components)):\n",
    "    pcs = PCA(n_components=n_components[i])\n",
    "    pcs.fit(X_train)\n",
    "    pcs_train = pcs.transform(X_train)\n",
    "    pcs_test = pcs.transform(X_test)\n",
    "    svm = SVC(kernel=\"linear\")\n",
    "    svm.fit(pcs_train, Y_train)\n",
    "    predict_ = svm.predict(pcs_test)\n",
    "    print(\"with {:d}: {:f}\".format(n_components[i], accuracy_score(predict_, Y_test)))  "
   ]
  },
  {
   "cell_type": "markdown",
   "id": "a4ad4577",
   "metadata": {},
   "source": [
    "### Sigmoid"
   ]
  },
  {
   "cell_type": "code",
   "execution_count": 19,
   "id": "f75c0fea",
   "metadata": {},
   "outputs": [
    {
     "name": "stdout",
     "output_type": "stream",
     "text": [
      "with 2: 0.235900\n",
      "with 5: 0.493700\n",
      "with 10: 0.627900\n",
      "with 20: 0.716300\n"
     ]
    }
   ],
   "source": [
    "for i in range(len(n_components)):\n",
    "    pcs = PCA(n_components=n_components[i])\n",
    "    pcs.fit(X_train)\n",
    "    pcs_train = pcs.transform(X_train)\n",
    "    pcs_test = pcs.transform(X_test)\n",
    "    svm = SVC(kernel=\"sigmoid\")\n",
    "    svm.fit(pcs_train, Y_train)\n",
    "    predict_ = svm.predict(pcs_test)\n",
    "    print(\"with {:d}: {:f}\".format(n_components[i], accuracy_score(predict_, Y_test)))  "
   ]
  },
  {
   "cell_type": "markdown",
   "id": "c4832409",
   "metadata": {},
   "source": [
    "### Polynomial"
   ]
  },
  {
   "cell_type": "code",
   "execution_count": 20,
   "id": "9805f1ca",
   "metadata": {},
   "outputs": [
    {
     "name": "stdout",
     "output_type": "stream",
     "text": [
      "with 2: 0.332400\n",
      "with 5: 0.740500\n",
      "with 10: 0.913400\n",
      "with 20: 0.955200\n"
     ]
    }
   ],
   "source": [
    "for i in range(len(n_components)):\n",
    "    pcs = PCA(n_components=n_components[i])\n",
    "    pcs.fit(X_train)\n",
    "    pcs_train = pcs.transform(X_train)\n",
    "    pcs_test = pcs.transform(X_test)\n",
    "    svm = SVC(kernel=\"poly\")\n",
    "    svm.fit(pcs_train, Y_train)\n",
    "    predict_ = svm.predict(pcs_test)\n",
    "    print(\"with {:d}: {:f}\".format(n_components[i], accuracy_score(predict_, Y_test)))  "
   ]
  },
  {
   "cell_type": "code",
   "execution_count": null,
   "id": "8417f7f2",
   "metadata": {},
   "outputs": [],
   "source": []
  }
 ],
 "metadata": {
  "kernelspec": {
   "display_name": "Python 3 (ipykernel)",
   "language": "python",
   "name": "python3"
  },
  "language_info": {
   "codemirror_mode": {
    "name": "ipython",
    "version": 3
   },
   "file_extension": ".py",
   "mimetype": "text/x-python",
   "name": "python",
   "nbconvert_exporter": "python",
   "pygments_lexer": "ipython3",
   "version": "3.9.9"
  }
 },
 "nbformat": 4,
 "nbformat_minor": 5
}
